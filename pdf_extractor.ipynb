{
 "cells": [
  {
   "cell_type": "markdown",
   "id": "79f0c315",
   "metadata": {},
   "source": [
    "# 🚗 PDF Car Number Extractor\n",
    "Split a PDF into 2-page files and extract car registration numbers from the first page of each chunk."
   ]
  },
  {
   "cell_type": "code",
   "execution_count": null,
   "id": "fec31728",
   "metadata": {},
   "outputs": [],
   "source": [
    "!pip install PyPDF2 pandas openpyxl"
   ]
  },
  {
   "cell_type": "code",
   "execution_count": null,
   "id": "09bee9db",
   "metadata": {},
   "outputs": [],
   "source": [
    "from PyPDF2 import PdfReader, PdfWriter\n",
    "import pandas as pd\n",
    "import os, re"
   ]
  },
  {
   "cell_type": "code",
   "execution_count": null,
   "id": "d4deae43",
   "metadata": {},
   "outputs": [],
   "source": [
    "def extract_registration(text):\n",
    "    match = re.search(r'\\b[A-Z]{1,3}-[A-Z]{1,2} \\d{1,4}\\b', text)\n",
    "    return match.group(0) if match else 'Not found'"
   ]
  },
  {
   "cell_type": "code",
   "execution_count": null,
   "id": "f178dd93",
   "metadata": {},
   "outputs": [],
   "source": [
    "def split_and_extract(input_pdf):\n",
    "    reader = PdfReader(input_pdf)\n",
    "    total_pages = len(reader.pages)\n",
    "    results = []\n",
    "    if not os.path.exists(\"splits\"): os.makedirs(\"splits\")\n",
    "    for i in range(0, total_pages, 2):\n",
    "        writer = PdfWriter()\n",
    "        name = f\"split_{i+1:03d}_{min(i+2, total_pages):03d}.pdf\"\n",
    "        with open(f\"splits/{name}\", \"wb\") as f_out:\n",
    "            writer.add_page(reader.pages[i])\n",
    "            if i + 1 < total_pages:\n",
    "                writer.add_page(reader.pages[i+1])\n",
    "            writer.write(f_out)\n",
    "        text = reader.pages[i].extract_text()\n",
    "        reg_number = extract_registration(text)\n",
    "        results.append({\"File\": name, \"Registration No\": reg_number})\n",
    "    df = pd.DataFrame(results)\n",
    "    df.to_excel(\"result.xlsx\", index=False)\n",
    "    return \"result.xlsx\""
   ]
  },
  {
   "cell_type": "code",
   "execution_count": null,
   "id": "c6f8c0da",
   "metadata": {},
   "outputs": [],
   "source": [
    "# Upload PDF\n",
    "from google.colab import files\n",
    "uploaded = files.upload()\n",
    "pdf_file = list(uploaded.keys())[0]"
   ]
  },
  {
   "cell_type": "code",
   "execution_count": null,
   "id": "182e6ca6",
   "metadata": {},
   "outputs": [],
   "source": [
    "# Run extraction\n",
    "output_file = split_and_extract(pdf_file)\n",
    "files.download(output_file)"
   ]
  }
 ],
 "metadata": {},
 "nbformat": 4,
 "nbformat_minor": 5
}
