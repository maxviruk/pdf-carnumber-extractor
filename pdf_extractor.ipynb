{
 "cells": [
  {
   "cell_type": "code",
   "execution_count": null,
   "id": "f8e25acb",
   "metadata": {},
   "outputs": [],
   "source": [
    "# 🛠️ Install dependencies\n",
    "!pip install PyPDF2 pandas openpyxl"
   ]
  },
  {
   "cell_type": "code",
   "execution_count": null,
   "id": "a4fb4206",
   "metadata": {},
   "outputs": [],
   "source": [
    "# 🧹 Clear the 'splits' folder before splitting\n",
    "import os\n",
    "folder = 'splits'\n",
    "if os.path.exists(folder):\n",
    "    for filename in os.listdir(folder):\n",
    "        file_path = os.path.join(folder, filename)\n",
    "        os.remove(file_path)\n",
    "    print('✅ All files in the splits folder have been deleted.')\n",
    "else:\n",
    "    print('ℹ️ Folder splits does not exist.')"
   ]
  },
  {
   "cell_type": "code",
   "execution_count": null,
   "id": "d9ec62eb",
   "metadata": {},
   "outputs": [],
   "source": [
    "# 📦 Import libraries\n",
    "from PyPDF2 import PdfReader, PdfWriter\n",
    "import pandas as pd\n",
    "import os, re"
   ]
  },
  {
   "cell_type": "code",
   "execution_count": null,
   "id": "7bbcd286",
   "metadata": {},
   "outputs": [],
   "source": [
    "# 🔍 Function to extract car registration number\n",
    "def extract_registration(text):\n",
    "    match = re.search(r'\\b[A-Z]{1,3}-[A-Z]{1,2} \\d{1,4}\\b', text)\n",
    "    return match.group(0) if match else 'Not found'"
   ]
  },
  {
   "cell_type": "code",
   "execution_count": null,
   "id": "153bac2e",
   "metadata": {},
   "outputs": [],
   "source": [
    "# ✂️ Split PDF and extract registration numbers\n",
    "def split_and_extract(input_pdf):\n",
    "    reader = PdfReader(input_pdf)\n",
    "    total_pages = len(reader.pages)\n",
    "    results = []\n",
    "    if not os.path.exists(\"splits\"): os.makedirs(\"splits\")\n",
    "    for i in range(0, total_pages, 2):\n",
    "        print(f\"📄 Processing pages {i+1}-{min(i+2, total_pages)}\")\n",
    "        text = reader.pages[i].extract_text()\n",
    "        reg_number = extract_registration(text)\n",
    "        safe_name = reg_number.replace(\" \", \"_\").replace(\"-\", \"_\") if reg_number != \"Not found\" else f\"Not_found_{i+1:03d}\"\n",
    "        name = f\"{safe_name}.pdf\"\n",
    "        print(f\"📝 Saving file: {name}\")\n",
    "        path = os.path.join(\"splits\", name)\n",
    "        writer = PdfWriter()\n",
    "        writer.add_page(reader.pages[i])\n",
    "        if i + 1 < total_pages:\n",
    "            writer.add_page(reader.pages[i+1])\n",
    "        with open(path, \"wb\") as f_out:\n",
    "            writer.write(f_out)\n",
    "        results.append({\"File\": name, \"Registration No\": reg_number})\n",
    "    df = pd.DataFrame(results)\n",
    "    df.to_excel(\"result.xlsx\", index=False)\n",
    "    return \"result.xlsx\""
   ]
  },
  {
   "cell_type": "code",
   "execution_count": null,
   "id": "51c7eb07",
   "metadata": {},
   "outputs": [],
   "source": [
    "# 📤 Upload PDF\n",
    "from google.colab import files\n",
    "import os\n",
    "uploaded = files.upload()\n",
    "pdf_file = os.path.join(\"/content\", list(uploaded.keys())[0])"
   ]
  },
  {
   "cell_type": "code",
   "execution_count": null,
   "id": "3ac7ae8c",
   "metadata": {},
   "outputs": [],
   "source": [
    "# 🚀 Run extraction and download result\n",
    "output_file = split_and_extract(pdf_file)\n",
    "files.download(output_file)"
   ]
  }
 ],
 "metadata": {},
 "nbformat": 4,
 "nbformat_minor": 5
}
