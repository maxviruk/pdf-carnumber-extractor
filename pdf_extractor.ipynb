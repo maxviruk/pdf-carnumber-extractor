{
 "cells": [
  {
   "cell_type": "markdown",
   "id": "edc6aaee",
   "metadata": {},
   "source": [
    "# 🚗 PDF Car Number Extractor\n",
    "Split PDF into 2-page chunks and extract car registration numbers."
   ]
  },
  {
   "cell_type": "code",
   "execution_count": null,
   "id": "2db040c3",
   "metadata": {},
   "outputs": [],
   "source": [
    "!pip install PyPDF2 pandas openpyxl"
   ]
  },
  {
   "cell_type": "code",
   "execution_count": null,
   "id": "110867c9",
   "metadata": {},
   "outputs": [],
   "source": [
    "from PyPDF2 import PdfReader, PdfWriter\n",
    "import pandas as pd\n",
    "import os, re"
   ]
  },
  {
   "cell_type": "code",
   "execution_count": null,
   "id": "31923233",
   "metadata": {},
   "outputs": [],
   "source": [
    "def extract_registration(text):\n",
    "    match = re.search(r'\\b[A-Z]{1,3}-[A-Z]{1,2} \\d{1,4}\\b', text)\n",
    "    return match.group(0) if match else 'Not found'"
   ]
  },
  {
   "cell_type": "code",
   "execution_count": null,
   "id": "08eede16",
   "metadata": {},
   "outputs": [],
   "source": [
    "def split_and_extract(input_pdf):\n",
    "    reader = PdfReader(input_pdf)\n",
    "    total_pages = len(reader.pages)\n",
    "    results = []\n",
    "    if not os.path.exists(\"splits\"): os.makedirs(\"splits\")\n",
    "    for i in range(0, total_pages, 2):\n",
    "        text = reader.pages[i].extract_text()\n",
    "        reg_number = extract_registration(text)\n",
    "        safe_name = reg_number.replace(\" \", \"_\").replace(\"-\", \"_\") if reg_number != \"Not found\" else f\"Not_found_{i+1:03d}\"\n",
    "        name = f\"{safe_name}.pdf\"\n",
    "        path = os.path.join(\"splits\", name)\n",
    "        writer = PdfWriter()\n",
    "        writer.add_page(reader.pages[i])\n",
    "        if i + 1 < total_pages:\n",
    "            writer.add_page(reader.pages[i+1])\n",
    "        with open(path, \"wb\") as f_out:\n",
    "            writer.write(f_out)\n",
    "        results.append({\"File\": name, \"Registration No\": reg_number})\n",
    "    df = pd.DataFrame(results)\n",
    "    df.to_excel(\"result.xlsx\", index=False)\n",
    "    return \"result.xlsx\""
   ]
  },
  {
   "cell_type": "code",
   "execution_count": null,
   "id": "8d37b84c",
   "metadata": {},
   "outputs": [],
   "source": [
    "# Upload PDF\n",
    "from google.colab import files\n",
    "uploaded = files.upload()\n",
    "pdf_file = list(uploaded.keys())[0]"
   ]
  },
  {
   "cell_type": "code",
   "execution_count": null,
   "id": "01067ffb",
   "metadata": {},
   "outputs": [],
   "source": [
    "# Run extraction\n",
    "output_file = split_and_extract(pdf_file)\n",
    "files.download(output_file)"
   ]
  },
  {
   "cell_type": "code",
   "execution_count": null,
   "id": "8c22ac9a",
   "metadata": {},
   "outputs": [],
   "source": [
    "# Upload your PDF file\n",
    "from google.colab import files\n",
    "uploaded = files.upload()\n",
    "pdf_file = list(uploaded.keys())[0]"
   ]
  },
  {
   "cell_type": "code",
   "execution_count": null,
   "id": "2d977fbb",
   "metadata": {},
   "outputs": [],
   "source": [
    "# Run extraction and download result\n",
    "output_file = split_and_extract(pdf_file)\n",
    "files.download(output_file)"
   ]
  }
 ],
 "metadata": {},
 "nbformat": 4,
 "nbformat_minor": 5
}
